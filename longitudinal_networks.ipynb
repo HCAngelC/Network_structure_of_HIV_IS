{
 "cells": [
  {
   "cell_type": "code",
   "execution_count": 1,
   "metadata": {},
   "outputs": [],
   "source": [
    "import numpy as np\n",
    "import pandas as pd\n",
    "import networkx as nx\n",
    "import matplotlib.pyplot as plt\n",
    "import seaborn as sns\n",
    "import random\n",
    "\n",
    "from scipy.stats import pearsonr\n",
    "\n",
    "from sklearn.preprocessing import StandardScaler"
   ]
  },
  {
   "cell_type": "code",
   "execution_count": 2,
   "metadata": {},
   "outputs": [],
   "source": [
    "def correlate_signatures(input_data: pd.DataFrame, feature_names: list):\n",
    "    features = input_data[feature_names]\n",
    "    scaler = StandardScaler()\n",
    "    features_scale = pd.DataFrame(\n",
    "        scaler.fit_transform(features), index=features.index, columns=features.columns\n",
    "    )\n",
    "    features_r = features_scale.T.corr(method=lambda x, y: pearsonr(x, y)[0])\n",
    "    features_p = features_scale.T.corr(method=lambda x, y: pearsonr(x, y)[1]) - np.eye(\n",
    "        *features_r.shape\n",
    "    )\n",
    "    features_d = 1 - features_r\n",
    "\n",
    "    return features_r, features_p, features_d\n",
    "\n",
    "\n",
    "def label_nodes_by_group(graph, groups):\n",
    "    nodelabels = {}\n",
    "    for node in graph.nodes:\n",
    "        for group in groups.keys():\n",
    "            if node in groups[group]:\n",
    "                nodelabels[node] = group\n",
    "    nx.set_node_attributes(graph, nodelabels, \"group\")\n",
    "\n",
    "\n",
    "def make_edge_tuples(from_group, to_group, r_matrix, p_matrix, d_matrix, sig=True):\n",
    "    edge_tuples = []\n",
    "    for i in from_group:\n",
    "        for j in to_group:\n",
    "            if sig == True:\n",
    "                if p_matrix.loc[i, j] < 0.05:\n",
    "                    edge_tuples.append(\n",
    "                        (\n",
    "                            r_matrix.index[i - 1],\n",
    "                            r_matrix.index[j - 1],\n",
    "                            {\"weight\": 2 - d_matrix.loc[i, j]},\n",
    "                        )\n",
    "                    )\n",
    "            else:\n",
    "                edge_tuples.append(\n",
    "                    (\n",
    "                        r_matrix.index[i - 1],\n",
    "                        r_matrix.index[j - 1],\n",
    "                        {\"weight\": 2 - d_matrix.loc[i, j]},\n",
    "                    )\n",
    "                )\n",
    "    return edge_tuples\n",
    "\n",
    "\n",
    "def permute_labels(input_data: pd.DataFrame):\n",
    "    generator = np.random.default_rng()\n",
    "    permuted_group = pd.Series(\n",
    "        generator.permutation(input_data[\"patient_period\"]), index=input_data.index\n",
    "    )\n",
    "    node_groups = {\n",
    "        \"untreat\": list(permuted_group.index[permuted_group == \"ART_untreat\"]),\n",
    "        \"short\": list(permuted_group.index[permuted_group == \"ART_short\"]),\n",
    "        \"long\": list(permuted_group.index[permuted_group == \"ART_long\"]),\n",
    "        \"ec\": list(permuted_group.index[permuted_group == \"EC_long\"]),\n",
    "    }\n",
    "    return node_groups\n",
    "\n",
    "\n",
    "def do_random_walk(graph: nx.DiGraph, source_group: str, n: int, weight=\"weight\"):\n",
    "    if source_group == \"all\":\n",
    "        sources = [node for node in graph.nodes]\n",
    "    else:\n",
    "        sources = [\n",
    "            node for node in graph.nodes if (graph.nodes[node][\"group\"] == source_group)\n",
    "        ]\n",
    "    source = random.choice(sources)\n",
    "    p = 1.0\n",
    "    current_node = source\n",
    "    current_out_deg = graph.out_degree(current_node, weight=weight)\n",
    "    current_out_edges = graph.out_edges(current_node, data=True)\n",
    "    targets = [edge[1] for edge in current_out_edges]\n",
    "    ps = [edge[2][\"weight\"] / (current_out_deg) for edge in current_out_edges]\n",
    "\n",
    "    for _ in range(n):\n",
    "        if current_out_deg != 0:\n",
    "            target = random.choices(population=targets, weights=ps, k=1)[0]\n",
    "            p = (graph.edges[(current_node, target)][weight] / current_out_deg) * p\n",
    "            current_node = target\n",
    "            current_out_deg = graph.out_degree(current_node, weight=weight)\n",
    "            current_out_edges = graph.out_edges(current_node, data=True)\n",
    "            targets = [edge[1] for edge in current_out_edges]\n",
    "            ps = [edge[2][\"weight\"] / (current_out_deg) for edge in current_out_edges]\n",
    "\n",
    "    return graph.nodes[current_node][\"group\"]\n",
    "\n",
    "\n",
    "def monte_carlo_random_walk(\n",
    "    graph: nx.DiGraph, source_group: str, i: int, n: int\n",
    ") -> np.float64:\n",
    "    walk_ends = {\"ec\": 0, \"long\": 0, \"short\": 0, \"untreat\": 0}\n",
    "    for _ in range(i):\n",
    "        walk_end = do_random_walk(graph, source_group, n)\n",
    "        walk_ends[walk_end] += 1\n",
    "\n",
    "    random_walk_p_distr = {\n",
    "        group: 100 * k / sum(walk_ends.values()) for group, k in walk_ends.items()\n",
    "    }\n",
    "    # random_p_ec = random_walk_p_distr[\"ec\"]\n",
    "    return random_walk_p_distr\n",
    "\n",
    "\n",
    "def random_walk_wrapper(\n",
    "    groups: dict,\n",
    "    matrices: dict,\n",
    "    source_group: str = \"all\",\n",
    "    i: int = None,\n",
    "    n: int = None,\n",
    "    return_graphs: bool = False,\n",
    "):\n",
    "    graphs_and_walks = {}\n",
    "    edge_groups = {}\n",
    "    for category, category_matrices in matrices.items():\n",
    "        for source_key, source in groups.items():\n",
    "            for target_key, target in groups.items():\n",
    "                edge_tuples = make_edge_tuples(\n",
    "                    source,\n",
    "                    target,\n",
    "                    category_matrices[0],\n",
    "                    category_matrices[1],\n",
    "                    category_matrices[2],\n",
    "                )\n",
    "                edge_groups[f\"{category}_{source_key}_to_{target_key}\"] = edge_tuples\n",
    "        sc3_edges = (\n",
    "            edge_groups[f\"{category}_untreat_to_short\"]\n",
    "            + edge_groups[f\"{category}_short_to_long\"]\n",
    "            + edge_groups[f\"{category}_untreat_to_ec\"]\n",
    "            + edge_groups[f\"{category}_short_to_ec\"]\n",
    "            + edge_groups[f\"{category}_untreat_to_long\"]\n",
    "            + edge_groups[f\"{category}_long_to_ec\"]\n",
    "        )\n",
    "        sc2_edges = (\n",
    "            edge_groups[f\"{category}_untreat_to_short\"]\n",
    "            + edge_groups[f\"{category}_short_to_long\"]\n",
    "            + edge_groups[f\"{category}_untreat_to_ec\"]\n",
    "            + edge_groups[f\"{category}_short_to_ec\"]\n",
    "            + edge_groups[f\"{category}_untreat_to_long\"]\n",
    "            + edge_groups[f\"{category}_ec_to_long\"]\n",
    "        )\n",
    "        sc1_edges = (\n",
    "            edge_groups[f\"{category}_untreat_to_short\"]\n",
    "            + edge_groups[f\"{category}_short_to_long\"]\n",
    "            + edge_groups[f\"{category}_untreat_to_ec\"]\n",
    "            + edge_groups[f\"{category}_short_to_ec\"]\n",
    "            + edge_groups[f\"{category}_untreat_to_long\"]\n",
    "        )\n",
    "        sc4_edges = (\n",
    "            edge_groups[f\"{category}_untreat_to_short\"]\n",
    "            + edge_groups[f\"{category}_short_to_long\"]\n",
    "            + edge_groups[f\"{category}_untreat_to_ec\"]\n",
    "            + edge_groups[f\"{category}_short_to_ec\"]\n",
    "            + edge_groups[f\"{category}_untreat_to_long\"]\n",
    "            + edge_groups[f\"{category}_ec_to_long\"]\n",
    "            + edge_groups[f\"{category}_long_to_ec\"]\n",
    "        )\n",
    "        sc3_graph = nx.from_edgelist(sc3_edges, create_using=nx.DiGraph)\n",
    "        sc2_graph = nx.from_edgelist(sc2_edges, create_using=nx.DiGraph)\n",
    "        sc1_graph = nx.from_edgelist(sc1_edges, create_using=nx.DiGraph)\n",
    "        sc4_graph = nx.from_edgelist(sc4_edges, create_using=nx.DiGraph)\n",
    "        label_nodes_by_group(sc3_graph, groups)\n",
    "        label_nodes_by_group(sc2_graph, groups)\n",
    "        label_nodes_by_group(sc1_graph, groups)\n",
    "        label_nodes_by_group(sc4_graph, groups)\n",
    "\n",
    "        sc3_walk = monte_carlo_random_walk(sc3_graph, source_group, i, n)\n",
    "        sc2_walk = monte_carlo_random_walk(sc2_graph, source_group, i, n)\n",
    "        sc1_walk = monte_carlo_random_walk(sc1_graph, source_group, i, n)\n",
    "        sc4_walk = monte_carlo_random_walk(sc4_graph, source_group, i, n)\n",
    "        if return_graphs == True:\n",
    "            graphs_and_walks[category] = {\n",
    "                \"sc3\": (sc3_graph, sc3_walk),\n",
    "                \"sc2\": (sc2_graph, sc2_walk),\n",
    "                \"sc1\": (sc1_graph, sc1_walk),\n",
    "                \"sc4\": (sc4_graph, sc4_walk),\n",
    "            }\n",
    "        else:\n",
    "            graphs_and_walks[category] = {\n",
    "                \"sc3\": sc3_walk,\n",
    "                \"sc2\": sc2_walk,\n",
    "                \"sc1\": sc1_walk,\n",
    "                \"sc4\": sc4_walk,\n",
    "            }\n",
    "\n",
    "    return graphs_and_walks\n",
    "\n",
    "\n",
    "def random_walk_wrapper_sh(\n",
    "    groups: dict,\n",
    "    matrices: dict,\n",
    "    source_group: str = \"all\",\n",
    "    i: int = None,\n",
    "    n: int = None,\n",
    "    return_graphs: bool = False,\n",
    "):\n",
    "    graphs_and_walks = {}\n",
    "    edge_groups = {}\n",
    "    for category, category_matrices in matrices.items():\n",
    "        for source_key, source in groups.items():\n",
    "            for target_key, target in groups.items():\n",
    "                edge_tuples = make_edge_tuples(\n",
    "                    source,\n",
    "                    target,\n",
    "                    category_matrices[0],\n",
    "                    category_matrices[1],\n",
    "                    category_matrices[2],\n",
    "                )\n",
    "                edge_groups[f\"{category}_{source_key}_to_{target_key}\"] = edge_tuples\n",
    "        sc3_edges = (\n",
    "            edge_groups[f\"{category}_short_to_long\"]\n",
    "            + edge_groups[f\"{category}_short_to_ec\"]\n",
    "            + edge_groups[f\"{category}_long_to_ec\"]\n",
    "        )\n",
    "        sc2_edges = (\n",
    "            edge_groups[f\"{category}_short_to_long\"]\n",
    "            + edge_groups[f\"{category}_short_to_ec\"]\n",
    "            + edge_groups[f\"{category}_ec_to_long\"]\n",
    "        )\n",
    "        sc1_edges = (\n",
    "            edge_groups[f\"{category}_short_to_long\"]\n",
    "            + edge_groups[f\"{category}_short_to_ec\"]\n",
    "        )\n",
    "        sc4_edges = (\n",
    "            edge_groups[f\"{category}_short_to_long\"]\n",
    "            + edge_groups[f\"{category}_short_to_ec\"]\n",
    "            + edge_groups[f\"{category}_ec_to_long\"]\n",
    "            + edge_groups[f\"{category}_long_to_ec\"]\n",
    "        )\n",
    "        sc3_graph = nx.from_edgelist(sc3_edges, create_using=nx.DiGraph)\n",
    "        sc2_graph = nx.from_edgelist(sc2_edges, create_using=nx.DiGraph)\n",
    "        sc1_graph = nx.from_edgelist(sc1_edges, create_using=nx.DiGraph)\n",
    "        sc4_graph = nx.from_edgelist(sc4_edges, create_using=nx.DiGraph)\n",
    "        label_nodes_by_group(sc3_graph, groups)\n",
    "        label_nodes_by_group(sc2_graph, groups)\n",
    "        label_nodes_by_group(sc1_graph, groups)\n",
    "        label_nodes_by_group(sc4_graph, groups)\n",
    "\n",
    "        sc3_walk = monte_carlo_random_walk(sc3_graph, source_group, i, n)\n",
    "        sc2_walk = monte_carlo_random_walk(sc2_graph, source_group, i, n)\n",
    "        sc1_walk = monte_carlo_random_walk(sc1_graph, source_group, i, n)\n",
    "        sc4_walk = monte_carlo_random_walk(sc4_graph, source_group, i, n)\n",
    "        if return_graphs == True:\n",
    "            graphs_and_walks[category] = {\n",
    "                \"sc3\": (sc3_graph, sc3_walk),\n",
    "                \"sc2\": (sc2_graph, sc2_walk),\n",
    "                \"sc1\": (sc1_graph, sc1_walk),\n",
    "                \"sc4\": (sc4_graph, sc4_walk),\n",
    "            }\n",
    "        else:\n",
    "            graphs_and_walks[category] = {\n",
    "                \"sc3\": sc3_walk,\n",
    "                \"sc2\": sc2_walk,\n",
    "                \"sc1\": sc1_walk,\n",
    "                \"sc4\": sc4_walk,\n",
    "            }\n",
    "\n",
    "    return graphs_and_walks\n",
    "\n"
   ]
  },
  {
   "cell_type": "code",
   "execution_count": 3,
   "metadata": {},
   "outputs": [],
   "source": [
    "long_sig = pd.read_excel(\"data/Table_6.xlsx\", index_col = \"id\")\n",
    "long_sig = long_sig.drop([\"Description\", \"patient\", \"period\"], axis=1)"
   ]
  },
  {
   "cell_type": "code",
   "execution_count": 4,
   "metadata": {},
   "outputs": [],
   "source": [
    "node_groups = {\n",
    "    \"untreat\": list(long_sig.index[long_sig[\"patient_period\"] == \"ART_untreat\"]),\n",
    "    \"short\": list(long_sig.index[long_sig[\"patient_period\"] == \"ART_short\"]),\n",
    "    \"long\": list(long_sig.index[long_sig[\"patient_period\"] == \"ART_long\"]),\n",
    "    \"ec\": list(long_sig.index[long_sig[\"patient_period\"] == \"EC_long\"]),\n",
    "}\n",
    "\n",
    "cat1_features = [\n",
    "    \"is_other_cell\",\n",
    "    \"is_CD4_T_cell\",\n",
    "    \"is_CD8_T_cell\",\n",
    "    \"is_B_cell\",\n",
    "    \"is_myeloid_cell\",\n",
    "    \"is_proinflammatory_factor\",\n",
    "    \"Response\",\n",
    "    \"Count\",\n",
    "    \"Rich_factor\",\n",
    "]\n",
    "cat2_features = [\"tpm\"]\n",
    "cat3_features = [\"HiC\",\"atac_seq_ count\"]\n",
    "\n",
    "cat_groups = {'cat1': cat1_features, 'cat12': cat1_features+cat2_features, 'cat13': cat1_features+cat3_features, 'cat123': cat1_features+cat2_features+cat3_features}\n"
   ]
  },
  {
   "cell_type": "code",
   "execution_count": 5,
   "metadata": {},
   "outputs": [
    {
     "name": "stdout",
     "output_type": "stream",
     "text": [
      "untreat: 8\n",
      "short: 65\n",
      "long: 153\n",
      "ec: 22\n"
     ]
    }
   ],
   "source": [
    "for name, group in node_groups.items():\n",
    "    print(f\"{name}: {len(group)}\")"
   ]
  },
  {
   "cell_type": "code",
   "execution_count": 6,
   "metadata": {},
   "outputs": [],
   "source": [
    "features_matrices = {}\n",
    "for group_name, group_features in cat_groups.items():\n",
    "    features_matrices[group_name] = correlate_signatures(long_sig, group_features)"
   ]
  },
  {
   "cell_type": "markdown",
   "metadata": {},
   "source": [
    "Pearson correlation distances, data for Figure 4 K-O."
   ]
  },
  {
   "cell_type": "code",
   "execution_count": 7,
   "metadata": {},
   "outputs": [],
   "source": [
    "group_distances = {}\n",
    "group_pvalues = {}\n",
    "for group in cat_groups.keys():\n",
    "    temp_distance_matrix = pd.DataFrame(\n",
    "        0.0, index=node_groups.keys(), columns=node_groups.keys()\n",
    "    )\n",
    "    temp_pvalue_matrix = pd.DataFrame(index=node_groups.keys(), columns=node_groups.keys()\n",
    "    )\n",
    "    for node_group1 in node_groups.keys():\n",
    "        for node_group2 in node_groups.keys():\n",
    "            dist_array = features_matrices[group][2].loc[\n",
    "                node_groups[node_group1], node_groups[node_group2]\n",
    "            ][\n",
    "                (\n",
    "                    features_matrices[group][1].loc[\n",
    "                        node_groups[node_group1], node_groups[node_group2]\n",
    "                    ]\n",
    "                )\n",
    "                < 0.05\n",
    "            ].values\n",
    "            dist_array = dist_array[~np.isnan(dist_array)]\n",
    "            temp_distance_matrix.loc[node_group1, node_group2] = np.mean(dist_array)\n",
    "            temp_pvalue_matrix.loc[node_group1,node_group2] = dist_array\n",
    "    group_distances[group] = temp_distance_matrix\n",
    "    group_pvalues[group] = temp_pvalue_matrix"
   ]
  },
  {
   "cell_type": "code",
   "execution_count": 8,
   "metadata": {},
   "outputs": [],
   "source": [
    "for group, df in group_distances.items():\n",
    "    df.to_csv(f\"data/output/{group}_distances.csv\")"
   ]
  },
  {
   "cell_type": "markdown",
   "metadata": {},
   "source": [
    "Markov Chain Monte Carlo on networks with assumed directionality"
   ]
  },
  {
   "cell_type": "code",
   "execution_count": 9,
   "metadata": {},
   "outputs": [
    {
     "data": {
      "text/plain": [
       "{'sc3': {'ec': 45.78, 'long': 54.22, 'short': 0.0, 'untreat': 0.0},\n",
       " 'sc2': {'ec': 0.2, 'long': 99.8, 'short': 0.0, 'untreat': 0.0},\n",
       " 'sc1': {'ec': 15.21, 'long': 84.79, 'short': 0.0, 'untreat': 0.0},\n",
       " 'sc4': {'ec': 21.8, 'long': 78.2, 'short': 0.0, 'untreat': 0.0}}"
      ]
     },
     "execution_count": 9,
     "metadata": {},
     "output_type": "execute_result"
    }
   ],
   "source": [
    "real_mc_p = random_walk_wrapper(node_groups, features_matrices, source_group=\"untreat\", i=10000, n=10)\n",
    "real_mc_p['cat1']"
   ]
  },
  {
   "cell_type": "code",
   "execution_count": 10,
   "metadata": {},
   "outputs": [
    {
     "name": "stdout",
     "output_type": "stream",
     "text": [
      "cat123, 99\r"
     ]
    }
   ],
   "source": [
    "random_mc_controls = {}\n",
    "\n",
    "for category in features_matrices.keys():\n",
    "    random_mc_controls[category] = {\"sc3\": [], \"sc2\": [], \"sc1\": [], \"sc4\":[]}\n",
    "    for iters in range(100):\n",
    "        print(f\"{category}, {iters}\", end='\\r', flush=True)\n",
    "        random_node_groups = permute_labels(long_sig)\n",
    "        random_p = random_walk_wrapper(\n",
    "            random_node_groups, features_matrices, source_group=\"untreat\", i=10000, n=10\n",
    "        )\n",
    "        random_mc_controls[category][\"sc3\"].append(random_p[category][\"sc3\"])\n",
    "        random_mc_controls[category][\"sc2\"].append(random_p[category][\"sc2\"])\n",
    "        random_mc_controls[category][\"sc1\"].append(random_p[category][\"sc1\"])\n",
    "        random_mc_controls[category][\"sc4\"].append(random_p[category][\"sc4\"])"
   ]
  },
  {
   "cell_type": "code",
   "execution_count": 11,
   "metadata": {},
   "outputs": [
    {
     "name": "stdout",
     "output_type": "stream",
     "text": [
      "73.13 45.78 \n",
      "\n",
      "0.0 0.2 \n",
      "\n",
      "12.09 15.21 \n",
      "\n",
      "49.215 21.8 \n",
      "\n"
     ]
    },
    {
     "data": {
      "image/png": "[encoded data removed]",
      "text/plain": [
       "<Figure size 640x480 with 1 Axes>"
      ]
     },
     "metadata": {},
     "output_type": "display_data"
    }
   ],
   "source": [
    "fig, ax = plt.subplots()\n",
    "sns.histplot([walk['ec'] for walk in random_mc_controls['cat1']['sc3']],color=\"green\")\n",
    "plt.axvline(real_mc_p[\"cat1\"][\"sc3\"][\"ec\"], color=\"green\")\n",
    "sns.histplot([walk['ec'] for walk in random_mc_controls['cat1']['sc2']],color=\"grey\")\n",
    "plt.axvline(real_mc_p[\"cat1\"][\"sc2\"][\"ec\"], color=\"black\")\n",
    "sns.histplot([walk['ec'] for walk in random_mc_controls['cat1']['sc1']],color=\"red\")\n",
    "plt.axvline(real_mc_p[\"cat1\"][\"sc1\"][\"ec\"], color=\"red\")\n",
    "sns.histplot([walk['ec'] for walk in random_mc_controls['cat1']['sc4']],color=\"orange\")\n",
    "plt.axvline(real_mc_p[\"cat1\"][\"sc4\"][\"ec\"], color=\"orange\")\n",
    "plt.axvline(12.6, color=\"black\", linestyle=\"dashed\")\n",
    "ax.set_xlim(-10, 110)\n",
    "ax.set_xlabel(\"P (EC)\")\n",
    "print(np.median([walk['ec'] for walk in random_mc_controls['cat1']['sc3']]), real_mc_p[\"cat1\"][\"sc3\"][\"ec\"],\"\\n\")\n",
    "print(np.median([walk['ec'] for walk in random_mc_controls['cat1']['sc2']]), real_mc_p[\"cat1\"][\"sc2\"][\"ec\"],\"\\n\")\n",
    "print(np.median([walk['ec'] for walk in random_mc_controls['cat1']['sc1']]), real_mc_p[\"cat1\"][\"sc1\"][\"ec\"],\"\\n\")\n",
    "print(np.median([walk['ec'] for walk in random_mc_controls['cat1']['sc4']]), real_mc_p[\"cat1\"][\"sc4\"][\"ec\"],\"\\n\")\n",
    "plt.savefig(\"data/output/random_walk_cat1_full.svg\", format=\"svg\")"
   ]
  },
  {
   "cell_type": "code",
   "execution_count": 12,
   "metadata": {},
   "outputs": [
    {
     "data": {
      "text/plain": [
       "{'sc3': {'ec': 45.78, 'long': 54.22, 'short': 0.0, 'untreat': 0.0},\n",
       " 'sc2': {'ec': 0.2, 'long': 99.8, 'short': 0.0, 'untreat': 0.0},\n",
       " 'sc1': {'ec': 15.21, 'long': 84.79, 'short': 0.0, 'untreat': 0.0},\n",
       " 'sc4': {'ec': 21.8, 'long': 78.2, 'short': 0.0, 'untreat': 0.0}}"
      ]
     },
     "execution_count": 12,
     "metadata": {},
     "output_type": "execute_result"
    }
   ],
   "source": [
    "real_mc_sh_p = random_walk_wrapper_sh(node_groups, features_matrices, source_group=\"short\", i=10000, n=10)\n",
    "real_mc_p['cat1']"
   ]
  },
  {
   "cell_type": "code",
   "execution_count": 13,
   "metadata": {},
   "outputs": [
    {
     "name": "stdout",
     "output_type": "stream",
     "text": [
      "cat123, 99\r"
     ]
    }
   ],
   "source": [
    "random_mc_sh_controls = {}\n",
    "\n",
    "for category in features_matrices.keys():\n",
    "    random_mc_sh_controls[category] = {\"sc3\": [], \"sc2\": [], \"sc1\": [], \"sc4\":[]}\n",
    "    for iters in range(100):\n",
    "        print(f\"{category}, {iters}\", end='\\r', flush=True)\n",
    "        random_node_groups = permute_labels(long_sig)\n",
    "        random_p = random_walk_wrapper_sh(\n",
    "            random_node_groups, features_matrices, source_group=\"short\", i=10000, n=10\n",
    "        )\n",
    "        random_mc_sh_controls[category][\"sc3\"].append(random_p[category][\"sc3\"])\n",
    "        random_mc_sh_controls[category][\"sc2\"].append(random_p[category][\"sc2\"])\n",
    "        random_mc_sh_controls[category][\"sc1\"].append(random_p[category][\"sc1\"])\n",
    "        random_mc_sh_controls[category][\"sc4\"].append(random_p[category][\"sc4\"])"
   ]
  },
  {
   "cell_type": "code",
   "execution_count": 14,
   "metadata": {},
   "outputs": [
    {
     "name": "stdout",
     "output_type": "stream",
     "text": [
      "77.71000000000001 45.97 \n",
      "\n",
      "0.0 0.95 \n",
      "\n",
      "12.245000000000001 11.78 \n",
      "\n",
      "64.74000000000001 36.1 \n",
      "\n"
     ]
    },
    {
     "data": {
      "image/png": "[encoded data removed]",
      "text/plain": [
       "<Figure size 640x480 with 1 Axes>"
      ]
     },
     "metadata": {},
     "output_type": "display_data"
    }
   ],
   "source": [
    "fig, ax = plt.subplots()\n",
    "sns.histplot([walk['ec'] for walk in random_mc_sh_controls['cat1']['sc3']],color=\"green\")\n",
    "plt.axvline(real_mc_sh_p[\"cat1\"][\"sc3\"][\"ec\"], color=\"green\")\n",
    "sns.histplot([walk['ec'] for walk in random_mc_sh_controls['cat1']['sc2']],color=\"grey\")\n",
    "plt.axvline(real_mc_sh_p[\"cat1\"][\"sc2\"][\"ec\"], color=\"black\")\n",
    "sns.histplot([walk['ec'] for walk in random_mc_sh_controls['cat1']['sc1']],color=\"red\")\n",
    "plt.axvline(real_mc_sh_p[\"cat1\"][\"sc1\"][\"ec\"], color=\"red\")\n",
    "sns.histplot([walk['ec'] for walk in random_mc_sh_controls['cat1']['sc4']],color=\"orange\")\n",
    "plt.axvline(real_mc_sh_p[\"cat1\"][\"sc4\"][\"ec\"], color=\"orange\")\n",
    "plt.axvline(12.6, color=\"black\", linestyle=\"dashed\")\n",
    "ax.set_xlim(-10, 110)\n",
    "ax.set_xlabel(\"P (EC)\")\n",
    "print(np.median([walk['ec'] for walk in random_mc_sh_controls['cat1']['sc3']]), real_mc_sh_p[\"cat1\"][\"sc3\"][\"ec\"],\"\\n\")\n",
    "print(np.median([walk['ec'] for walk in random_mc_sh_controls['cat1']['sc2']]), real_mc_sh_p[\"cat1\"][\"sc2\"][\"ec\"],\"\\n\")\n",
    "print(np.median([walk['ec'] for walk in random_mc_sh_controls['cat1']['sc1']]), real_mc_sh_p[\"cat1\"][\"sc1\"][\"ec\"],\"\\n\")\n",
    "print(np.median([walk['ec'] for walk in random_mc_sh_controls['cat1']['sc4']]), real_mc_sh_p[\"cat1\"][\"sc4\"][\"ec\"],\"\\n\")\n",
    "plt.savefig(\"data/output/random_walk_cat1_sh.svg\", format=\"svg\")"
   ]
  }
 ],
 "metadata": {
  "kernelspec": {
   "display_name": "env",
   "language": "python",
   "name": "python3"
  },
  "language_info": {
   "codemirror_mode": {
    "name": "ipython",
    "version": 3
   },
   "file_extension": ".py",
   "mimetype": "text/x-python",
   "name": "python",
   "nbconvert_exporter": "python",
   "pygments_lexer": "ipython3",
   "version": "3.11.9"
  }
 },
 "nbformat": 4,
 "nbformat_minor": 2
}
