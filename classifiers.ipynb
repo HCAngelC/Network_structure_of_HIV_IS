{
 "cells": [
  {
   "cell_type": "markdown",
   "metadata": {},
   "source": [
    "This notebook containts the code to generate classifiers, plots and statistics for models M1-M6 (see the article methods section).\n",
    "Source code for the pipeline used can be found in src/pipeline.py"
   ]
  },
  {
   "cell_type": "code",
   "execution_count": null,
   "metadata": {},
   "outputs": [],
   "source": [
    "import pandas as pd\n",
    "import matplotlib.pyplot as plt\n",
    "import seaborn as sns\n",
    "\n",
    "from src import pipeline\n",
    "from sklearn import ensemble, model_selection"
   ]
  },
  {
   "cell_type": "markdown",
   "metadata": {},
   "source": [
    "Data import setup:"
   ]
  },
  {
   "cell_type": "code",
   "execution_count": null,
   "metadata": {},
   "outputs": [],
   "source": [
    "provirus_type_data_path = \"data/Table_5_df_complete_2_799.csv\"\n",
    "longitudianl_data_path = \"data/Table_6_df_features_IS_longitudinal.csv\"\n",
    "index_col = \"Description\"\n",
    "feature_names = {\n",
    "    \"cat1\": [\n",
    "        \"is_other_cell\",\n",
    "        \"is_CD4_T_cell\",\n",
    "        \"is_CD8_T_cell\",\n",
    "        \"is_B_cell\",\n",
    "        \"is_myeloid_cell\",\n",
    "        \"is_proinflammatory_factor\",\n",
    "        \"Response\",\n",
    "        \"Count\",\n",
    "        \"RF\",\n",
    "    ],\n",
    "    \"cat2\": [\"tpm\"],\n",
    "    \"cat3\": [\"atac_count\", \"contactCount\"],\n",
    "}"
   ]
  },
  {
   "cell_type": "markdown",
   "metadata": {},
   "source": [
    "Base model and model tuning setup:"
   ]
  },
  {
   "cell_type": "code",
   "execution_count": null,
   "metadata": {},
   "outputs": [],
   "source": [
    "base_model = ensemble.RandomForestClassifier()\n",
    "rfc_param_grid = {\n",
    "    \"n_estimators\": [100, 20],\n",
    "    \"criterion\": [\"gini\", \"log_loss\"],\n",
    "    \"max_features\": [\"sqrt\", \"log2\"],\n",
    "    \"min_samples_split\": [3, 5, 10],\n",
    "    \"min_samples_leaf\": [1, 4],\n",
    "    \"class_weight\": [None, \"balanced\"],\n",
    "}\n",
    "tuning_cv = model_selection.RepeatedStratifiedKFold(n_splits=5, n_repeats=10)"
   ]
  },
  {
   "cell_type": "markdown",
   "metadata": {},
   "source": [
    "1. M1 - multiclass classification of enriched signatures harboring intact- versus defective proviruses in ART-treated patients and elite controllers."
   ]
  },
  {
   "cell_type": "code",
   "execution_count": null,
   "metadata": {},
   "outputs": [],
   "source": [
    "M1 = pipeline.ClassificationPipeline(data_path=provirus_type_data_path, index_name=index_col, X_names=feature_names, y_name='type')\n",
    "M1.calc_feat_importance()"
   ]
  },
  {
   "cell_type": "code",
   "execution_count": null,
   "metadata": {},
   "outputs": [],
   "source": [
    "M1.select_n_features(5)\n",
    "M1.tune_model(base_model=base_model, param_grid=rfc_param_grid, crossvalidator=tuning_cv, scoring_metric='f1_macro')\n",
    "M1.evaluate_model()\n",
    "M1.draw_plots(kind='kde')\n",
    "M1.draw_plots(kind='box')"
   ]
  },
  {
   "cell_type": "code",
   "execution_count": null,
   "metadata": {},
   "outputs": [],
   "source": [
    "pipeline.test_median_f1s(M1.f1s['Cat. 1'], M1.f1s['Cat. 1 & 2'])\n",
    "pipeline.test_median_f1s(M1.f1s['Cat. 1'], M1.f1s['Cat. 1 & 3'])\n",
    "pipeline.test_median_f1s(M1.f1s['Cat. 1'], M1.f1s['Cat. 1, 2 & 3'])"
   ]
  },
  {
   "cell_type": "markdown",
   "metadata": {},
   "source": [
    "2. M2 - binary classification of enriched signatures harboring intact- versus defective proviruses in ART-treated patients."
   ]
  },
  {
   "cell_type": "code",
   "execution_count": null,
   "metadata": {},
   "outputs": [],
   "source": [
    "M2 = pipeline.ClassificationPipeline(data_path=provirus_type_data_path, index_name=index_col, X_names=feature_names, y_name='provirus', filter_col='patient',filter_val='ART')\n",
    "M2.calc_feat_importance()"
   ]
  },
  {
   "cell_type": "code",
   "execution_count": null,
   "metadata": {},
   "outputs": [],
   "source": [
    "M2.select_n_features(5)\n",
    "M2.tune_model(base_model=base_model, param_grid=rfc_param_grid, crossvalidator=tuning_cv, scoring_metric='f1')\n",
    "M2.evaluate_model()\n",
    "M2.draw_plots(kind='kde')\n",
    "M2.draw_plots(kind='box')"
   ]
  },
  {
   "cell_type": "code",
   "execution_count": null,
   "metadata": {},
   "outputs": [],
   "source": [
    "pipeline.test_median_f1s(M2.f1s['Cat. 1'], M2.f1s['Cat. 1 & 2'])\n",
    "pipeline.test_median_f1s(M2.f1s['Cat. 1'], M2.f1s['Cat. 1 & 3'])\n",
    "pipeline.test_median_f1s(M2.f1s['Cat. 1'], M2.f1s['Cat. 1, 2 & 3'])"
   ]
  },
  {
   "cell_type": "markdown",
   "metadata": {},
   "source": [
    "3. M3 - binary classification of enriched signatures harboring intact- versus defective proviruses in elite controllers."
   ]
  },
  {
   "cell_type": "code",
   "execution_count": null,
   "metadata": {},
   "outputs": [],
   "source": [
    "M3 = pipeline.ClassificationPipeline(data_path=provirus_type_data_path, index_name=index_col, X_names=feature_names, y_name='provirus', filter_col='patient',filter_val='EC')\n",
    "M3.calc_feat_importance()"
   ]
  },
  {
   "cell_type": "code",
   "execution_count": null,
   "metadata": {},
   "outputs": [],
   "source": [
    "M3.select_n_features(5)\n",
    "M3.tune_model(base_model=base_model, param_grid=rfc_param_grid, crossvalidator=tuning_cv, scoring_metric='f1')\n",
    "M3.evaluate_model()\n",
    "M3.draw_plots(kind='kde')\n",
    "M3.draw_plots(kind='box')"
   ]
  },
  {
   "cell_type": "code",
   "execution_count": null,
   "metadata": {},
   "outputs": [],
   "source": [
    "pipeline.test_median_f1s(M3.f1s['Cat. 1'], M3.f1s['Cat. 1 & 2'])\n",
    "pipeline.test_median_f1s(M3.f1s['Cat. 1'], M3.f1s['Cat. 1 & 3'])\n",
    "pipeline.test_median_f1s(M3.f1s['Cat. 1'], M3.f1s['Cat. 1, 2 & 3'])"
   ]
  },
  {
   "cell_type": "markdown",
   "metadata": {},
   "source": [
    "4. Comparison of M2 and M3"
   ]
  },
  {
   "cell_type": "code",
   "execution_count": null,
   "metadata": {},
   "outputs": [],
   "source": [
    "f1s_art_molten = M2.f1s.melt()\n",
    "f1s_art_molten['patients']='ART'\n",
    "f1s_ec_molten = M3.f1s.melt()\n",
    "f1s_ec_molten['patients']='EC'\n",
    "f1s_combined = pd.concat([f1s_art_molten, f1s_ec_molten])\n",
    "\n",
    "fig, ax = plt.subplots()\n",
    "sns.set(font_scale=1.2)\n",
    "sns.boxplot(data=f1s_combined, x='variable', y='value',palette=\"Dark2\", hue='patients')\n",
    "ax.set_ylim(0, 1.2)\n",
    "ax.set_ylabel(\"F1 score\")\n",
    "ax.set_xlabel(\"Attribute categories\")\n",
    "#plt.savefig(\"data/output/f1s_art_vs_ec.svg\", dpi=600, format=\"svg\")\n",
    "print(f\"Median F1 scores (ART):\\n{M2.f1s.median()}\")\n",
    "print(f\"Median F1 scores (EC):\\n{M3.f1s.median()}\")"
   ]
  },
  {
   "cell_type": "code",
   "execution_count": null,
   "metadata": {},
   "outputs": [],
   "source": [
    "pipeline.test_median_f1s(M2.f1s['Cat. 1'], M3.f1s['Cat. 1'])\n",
    "pipeline.test_median_f1s(M2.f1s['Cat. 1 & 2'], M3.f1s['Cat. 1 & 2'])\n",
    "pipeline.test_median_f1s(M2.f1s['Cat. 1 & 3'], M3.f1s['Cat. 1 & 3'])\n",
    "pipeline.test_median_f1s(M2.f1s['Cat. 1, 2 & 3'], M3.f1s['Cat. 1, 2 & 3'])"
   ]
  },
  {
   "cell_type": "markdown",
   "metadata": {},
   "source": [
    "5. M4 - multiclass classification of immunologic signatures enriched in pretreatment HIV-1-infected individuals, patients subjected to a short- and long period of ART and elite controllers."
   ]
  },
  {
   "cell_type": "code",
   "execution_count": null,
   "metadata": {},
   "outputs": [],
   "source": [
    "M4 = pipeline.ClassificationPipeline(data_path=longitudianl_data_path, index_name=index_col, X_names=feature_names, y_name='type')\n",
    "M4.calc_feat_importance()"
   ]
  },
  {
   "cell_type": "code",
   "execution_count": null,
   "metadata": {},
   "outputs": [],
   "source": [
    "M4.select_n_features(5)\n",
    "M4.tune_model(base_model=base_model, param_grid=rfc_param_grid, crossvalidator=tuning_cv, scoring_metric='f1_macro')\n",
    "M4.evaluate_model()\n",
    "M4.draw_plots(kind='kde')\n",
    "M4.draw_plots(kind='box')"
   ]
  },
  {
   "cell_type": "markdown",
   "metadata": {},
   "source": [
    "6. M5 - as in M4, but excluding elite controllers."
   ]
  },
  {
   "cell_type": "code",
   "execution_count": null,
   "metadata": {},
   "outputs": [],
   "source": [
    "M5 = pipeline.ClassificationPipeline(data_path=longitudianl_data_path, index_name=index_col, X_names=feature_names, y_name='type', filter_col='type', filter_exclude='EC_long')\n",
    "M5.calc_feat_importance()"
   ]
  },
  {
   "cell_type": "code",
   "execution_count": null,
   "metadata": {},
   "outputs": [],
   "source": [
    "M5.select_n_features(5)\n",
    "M5.tune_model(base_model=base_model, param_grid=rfc_param_grid, crossvalidator=tuning_cv, scoring_metric='f1_macro')\n",
    "M5.evaluate_model()\n",
    "M5.draw_plots(kind='kde')\n",
    "M5.draw_plots(kind='box')"
   ]
  },
  {
   "cell_type": "markdown",
   "metadata": {},
   "source": [
    "7. M6 - as in M4, but excluding pretreatment HIV-1-infected individuals."
   ]
  },
  {
   "cell_type": "code",
   "execution_count": null,
   "metadata": {},
   "outputs": [],
   "source": [
    "M6 = pipeline.ClassificationPipeline(data_path=longitudianl_data_path, index_name=index_col, X_names=feature_names, y_name='type', filter_col='type', filter_exclude='ART_untreat')\n",
    "M6.calc_feat_importance()"
   ]
  },
  {
   "cell_type": "code",
   "execution_count": null,
   "metadata": {},
   "outputs": [],
   "source": [
    "M6.select_n_features(5)\n",
    "M6.tune_model(base_model=base_model, param_grid=rfc_param_grid, crossvalidator=tuning_cv, scoring_metric='f1_macro')\n",
    "M6.evaluate_model()\n",
    "M6.draw_plots(kind='kde')\n",
    "M6.draw_plots(kind='box')"
   ]
  }
 ],
 "metadata": {
  "kernelspec": {
   "display_name": "env",
   "language": "python",
   "name": "python3"
  },
  "language_info": {
   "codemirror_mode": {
    "name": "ipython",
    "version": 3
   },
   "file_extension": ".py",
   "mimetype": "text/x-python",
   "name": "python",
   "nbconvert_exporter": "python",
   "pygments_lexer": "ipython3",
   "version": "3.11.6"
  }
 },
 "nbformat": 4,
 "nbformat_minor": 2
}
